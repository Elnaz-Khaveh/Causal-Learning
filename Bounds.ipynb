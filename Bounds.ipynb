{
  "nbformat": 4,
  "nbformat_minor": 0,
  "metadata": {
    "colab": {
      "provenance": []
    },
    "kernelspec": {
      "name": "python3",
      "display_name": "Python 3"
    },
    "language_info": {
      "name": "python"
    }
  },
  "cells": [
    {
      "cell_type": "code",
      "metadata": {
        "colab": {
          "base_uri": "https://localhost:8080/"
        },
        "id": "2oAYCAiTpAKE",
        "outputId": "d28e685b-78a5-4d67-f26c-efc3027a8557"
      },
      "source": [
        "pip install causalgraphicalmodels"
      ],
      "execution_count": null,
      "outputs": [
        {
          "output_type": "stream",
          "name": "stdout",
          "text": [
            "Looking in indexes: https://pypi.org/simple, https://us-python.pkg.dev/colab-wheels/public/simple/\n",
            "Collecting causalgraphicalmodels\n",
            "  Downloading causalgraphicalmodels-0.0.4-py3-none-any.whl (11 kB)\n",
            "Requirement already satisfied: networkx in /usr/local/lib/python3.7/dist-packages (from causalgraphicalmodels) (2.6.3)\n",
            "Requirement already satisfied: pandas in /usr/local/lib/python3.7/dist-packages (from causalgraphicalmodels) (1.3.5)\n",
            "Requirement already satisfied: graphviz in /usr/local/lib/python3.7/dist-packages (from causalgraphicalmodels) (0.10.1)\n",
            "Requirement already satisfied: numpy in /usr/local/lib/python3.7/dist-packages (from causalgraphicalmodels) (1.21.6)\n",
            "Requirement already satisfied: python-dateutil>=2.7.3 in /usr/local/lib/python3.7/dist-packages (from pandas->causalgraphicalmodels) (2.8.2)\n",
            "Requirement already satisfied: pytz>=2017.3 in /usr/local/lib/python3.7/dist-packages (from pandas->causalgraphicalmodels) (2022.6)\n",
            "Requirement already satisfied: six>=1.5 in /usr/local/lib/python3.7/dist-packages (from python-dateutil>=2.7.3->pandas->causalgraphicalmodels) (1.15.0)\n",
            "Installing collected packages: causalgraphicalmodels\n",
            "Successfully installed causalgraphicalmodels-0.0.4\n"
          ]
        }
      ]
    },
    {
      "cell_type": "code",
      "metadata": {
        "id": "K9lDYMYUpJgf"
      },
      "source": [
        "import numpy as np\n",
        "import matplotlib.pyplot as plt\n",
        "from matplotlib.pyplot import figure\n",
        "\n",
        "from causalgraphicalmodels import StructuralCausalModel\n",
        "from causalgraphicalmodels.csm import discrete_model, linear_model\n",
        "\n",
        "from sklearn.linear_model import LinearRegression"
      ],
      "execution_count": null,
      "outputs": []
    },
    {
      "cell_type": "markdown",
      "metadata": {
        "id": "9YuaZuUYZwSj"
      },
      "source": [
        "# Exercise 1:\n",
        "\n",
        "Implement the following bounds:\n",
        "1. No assumption bound\n",
        "2. Monotone treatment response (MTR)\n",
        "    1. nonnegative: $Y(1) \\geq Y(0)$\n",
        "    2. nonpositive: $Y(1) \\leq Y(0)$\n",
        "3. Monotone treatment selection (MTS): \n",
        "$E[Y(1) | T=1] \\geq E[Y(1) | T=0]$ and \n",
        "$E[Y(0) | T=1] \\geq E[Y(0) | T=0]$\n",
        "4. Optimal treatment selection (OTS): \n",
        "$T_i=1 \\rightarrow Y_i(1) \\geq Y_i(0)$ and\n",
        "$T_i=0 \\rightarrow Y_i(1) < Y_i(0)$\n",
        "    1. variant 1\n",
        "    2. variant 2\n",
        "\n",
        "as functions of the following parameters:\n",
        "1. $a = min(Y)$\n",
        "2. $b = max(Y)$\n",
        "3. $\\pi = P(T = 1)$\n",
        "4. $E[Y | T = 1]$, $E[Y | T = 0]$\n",
        "\n",
        "Check if you get the expected results for the following values of the input parameters:\n",
        "$a=0$, $b=1$, $\\pi=.3$, $E[Y | T = 1] = .9$, $E[Y | T = 0] = .2$."
      ]
    },
    {
      "cell_type": "markdown",
      "metadata": {
        "id": "JnjccL5JcyEm"
      },
      "source": [
        "Your solution:"
      ]
    },
    {
      "cell_type": "markdown",
      "source": [
        "*No assumption bound:"
      ],
      "metadata": {
        "id": "-Br7FmoE81NA"
      }
    },
    {
      "cell_type": "code",
      "metadata": {
        "id": "GpMA8N8s5ra4"
      },
      "source": [
        "def NAB(pi,a,b,E1,E0):\n",
        "  upper_bound = (pi* E1) + ((1-pi)*b) - (pi*a) - ((1-pi)*E0)\n",
        "  lower_bound = (pi* E1) + ((1-pi)*a) - (pi*b) - ((1-pi)*E0)\n",
        "  return (lower_bound,upper_bound)"
      ],
      "execution_count": null,
      "outputs": []
    },
    {
      "cell_type": "code",
      "source": [
        "print(\"The NAB interval is:{}\".format(NAB(0.3,0,1,0.9,0.2)))"
      ],
      "metadata": {
        "id": "Dm2AMSb1AsTq",
        "outputId": "4aa12e29-99a5-4759-aaba-05e06278184a",
        "colab": {
          "base_uri": "https://localhost:8080/"
        }
      },
      "execution_count": null,
      "outputs": [
        {
          "output_type": "stream",
          "name": "stdout",
          "text": [
            "The NAB interval is:(-0.16999999999999996, 0.83)\n"
          ]
        }
      ]
    },
    {
      "cell_type": "markdown",
      "source": [
        "*Monotone treatment response (MTR):"
      ],
      "metadata": {
        "id": "uHlicDP4CbV0"
      }
    },
    {
      "cell_type": "code",
      "source": [
        "#non-negative\n",
        "def MTR_nn(pi,a,b,E1,E0):\n",
        "  upper_bound = (pi* E1) + ((1-pi)*b) - (pi*a) - ((1-pi)*E0)\n",
        "  lower_bound =0\n",
        "  return(lower_bound,upper_bound)\n",
        "\n",
        "#non-positive\n",
        "def MTR_np(pi,a,b,E1,E0):\n",
        "  upper_bound = 0\n",
        "  lower_bound = (pi* E1) + ((1-pi)*a) - (pi*b) - ((1-pi)*E0)\n",
        "  return(lower_bound,upper_bound)"
      ],
      "metadata": {
        "id": "lTieL7bFCdRg"
      },
      "execution_count": null,
      "outputs": []
    },
    {
      "cell_type": "code",
      "source": [
        "print(\"The non_negative MTR interval is:{}\".format(MTR_nn(0.3,0,1,0.9,0.2)))\n",
        "print(\"The non_positive MTR interval is:{}\".format(MTR_np(0.3,0,1,0.9,0.2)))"
      ],
      "metadata": {
        "id": "ZSdMc0WGE1dN",
        "outputId": "df737f22-7536-449e-8191-0f1f5307b209",
        "colab": {
          "base_uri": "https://localhost:8080/"
        }
      },
      "execution_count": null,
      "outputs": [
        {
          "output_type": "stream",
          "name": "stdout",
          "text": [
            "The non_negative MTR interval is:(0, 0.83)\n",
            "The non_positive MTR interval is:(-0.16999999999999996, 0)\n"
          ]
        }
      ]
    },
    {
      "cell_type": "markdown",
      "source": [
        "*Monotone treatment selection (MTS):"
      ],
      "metadata": {
        "id": "otKLGlFwGG-q"
      }
    },
    {
      "cell_type": "code",
      "source": [
        "#MTS\n",
        "def MTS(pi,a,b,E1,E0):\n",
        "  upper_bound = E1 - E0\n",
        "  lower_bound = (pi* E1) + ((1-pi)*a) - (pi*b) - ((1-pi)*E0)\n",
        "  return(lower_bound,upper_bound)\n",
        "\n",
        "#MTS+MTR\n",
        "def MTS_MTR(pi,a,b,E1,E0):\n",
        "  upper_bound = E1 - E0\n",
        "  lower_bound = 0\n",
        "  return(lower_bound,upper_bound)  "
      ],
      "metadata": {
        "id": "9b3iO-lPGLJz"
      },
      "execution_count": null,
      "outputs": []
    },
    {
      "cell_type": "code",
      "source": [
        "print(\"The MTS interval is:{}\".format(MTS(0.3,0,1,0.9,0.2)))\n",
        "print(\"The MTS + MTR interval is:{}\".format(MTS_MTR(0.3,0,1,0.9,0.2)))"
      ],
      "metadata": {
        "id": "I62mYPX2KMvZ",
        "outputId": "8b0117fe-c90f-406f-99c8-ef7dd994eab9",
        "colab": {
          "base_uri": "https://localhost:8080/"
        }
      },
      "execution_count": null,
      "outputs": [
        {
          "output_type": "stream",
          "name": "stdout",
          "text": [
            "The MTS interval is:(-0.16999999999999996, 0.7)\n",
            "The MTS + MTR interval is:(0, 0.7)\n"
          ]
        }
      ]
    },
    {
      "cell_type": "markdown",
      "source": [
        "Optimal treatment selection (OTS):"
      ],
      "metadata": {
        "id": "HtOmFgRdKgQ5"
      }
    },
    {
      "cell_type": "code",
      "source": [
        "#OTS1\n",
        "def OTS1(pi,a,b,E1,E0):\n",
        "  upper_bound = (pi*E1) - (pi*a)\n",
        "  lower_bound = ((1-pi)*a) - ((1-pi)*E0)\n",
        "  return(lower_bound,upper_bound)\n",
        "#OTS2\n",
        "def OTS2(pi,a,b,E1,E0):\n",
        "  upper_bound = E1 - (pi*a) - ((1-pi)*E0)\n",
        "  lower_bound = (pi*E1) + ((1-pi)*a) - E0\n",
        "  return(lower_bound,upper_bound)"
      ],
      "metadata": {
        "id": "3t3XFFqWKjyv"
      },
      "execution_count": null,
      "outputs": []
    },
    {
      "cell_type": "code",
      "source": [
        "print(\"The OTS1 interval is:{}\".format(OTS1(0.3,0,1,0.9,0.2)))\n",
        "print(\"The OTS2 interval is:{}\".format(OTS2(0.3,0,1,0.9,0.2)))"
      ],
      "metadata": {
        "id": "Quz3qu7XMs8P",
        "outputId": "dd7eb3fc-e7cc-4c07-a57f-fa05b425d4c2",
        "colab": {
          "base_uri": "https://localhost:8080/"
        }
      },
      "execution_count": null,
      "outputs": [
        {
          "output_type": "stream",
          "name": "stdout",
          "text": [
            "The OTS1 interval is:(-0.13999999999999999, 0.27)\n",
            "The OTS2 interval is:(0.07, 0.76)\n"
          ]
        }
      ]
    },
    {
      "cell_type": "markdown",
      "metadata": {
        "id": "oYlFZZC7qZdf"
      },
      "source": [
        "# A Discrete model\n"
      ]
    },
    {
      "cell_type": "code",
      "metadata": {
        "colab": {
          "base_uri": "https://localhost:8080/",
          "height": 386
        },
        "id": "7dt3wPMYqGyC",
        "outputId": "d81dd9be-9cc7-4dcf-b66a-2ccc424b9feb"
      },
      "source": [
        "fd_disc = StructuralCausalModel({\n",
        "    \"C\": lambda n_samples: np.random.binomial(n=1, p=0.7, size=n_samples),\n",
        "    \"A\": lambda n_samples: np.random.binomial(n=1, p=0.3, size=n_samples),\n",
        "    \"T\": discrete_model([\"C\", \"A\"], {\n",
        "        (0, 0): (0.1, 0.9), \n",
        "        (0, 1): (0.7, 0.3),\n",
        "        (1, 0): (0.3, 0.7),\n",
        "        (1, 1): (0.8, 0.2),\n",
        "        }),  \n",
        "    \"F\": discrete_model([\"T\"], {\n",
        "        (0, ): (0.6, 0.4),\n",
        "        (1, ): (0.1, 0.9),\n",
        "        }),\n",
        "    \"Y\": discrete_model([\"A\", \"T\"], {\n",
        "        (0, 0): (0.9, 0.1), \n",
        "        (0, 1): (0.3, 0.7),\n",
        "        (1, 0): (0.4, 0.6),\n",
        "        (1, 1): (0.5, 0.5),\n",
        "        }),\n",
        "    \"H\": discrete_model([\"Y\"], {\n",
        "        (0, ): (0.2, 0.4, 0.4),\n",
        "        (1, ): (0.8, 0.1, 0.1),\n",
        "        }),\n",
        "})\n",
        "# sampling\n",
        "data_df = fd_disc.sample(n_samples = 1000000)\n",
        "\n",
        "# calculation true ATE\n",
        "set_variable_X = np.array([0]*500000 + [1]*500000)\n",
        "ab_test_df = fd_disc.do('T').sample(\n",
        "                    set_values={'T': set_variable_X}, \n",
        "                    n_samples=len(set_variable_X),\n",
        "                  )\n",
        "true_ate = ab_test_df[ab_test_df['T'] == 1]['Y'].mean() - ab_test_df[ab_test_df['T'] == 0]['Y'].mean()\n",
        "print('True_ATE = {}'.format(true_ate))\n",
        "\n",
        "fd_disc.cgm.draw()"
      ],
      "execution_count": null,
      "outputs": [
        {
          "output_type": "stream",
          "name": "stdout",
          "text": [
            "True_ATE = 0.389394\n"
          ]
        },
        {
          "output_type": "execute_result",
          "data": {
            "text/plain": [
              "<graphviz.dot.Digraph at 0x7f4a776b5f50>"
            ],
            "image/svg+xml": "<?xml version=\"1.0\" encoding=\"UTF-8\" standalone=\"no\"?>\n<!DOCTYPE svg PUBLIC \"-//W3C//DTD SVG 1.1//EN\"\n \"http://www.w3.org/Graphics/SVG/1.1/DTD/svg11.dtd\">\n<!-- Generated by graphviz version 2.40.1 (20161225.0304)\n -->\n<!-- Title: %3 Pages: 1 -->\n<svg width=\"134pt\" height=\"260pt\"\n viewBox=\"0.00 0.00 134.00 260.00\" xmlns=\"http://www.w3.org/2000/svg\" xmlns:xlink=\"http://www.w3.org/1999/xlink\">\n<g id=\"graph0\" class=\"graph\" transform=\"scale(1 1) rotate(0) translate(4 256)\">\n<title>%3</title>\n<polygon fill=\"#ffffff\" stroke=\"transparent\" points=\"-4,4 -4,-256 130,-256 130,4 -4,4\"/>\n<!-- C -->\n<g id=\"node1\" class=\"node\">\n<title>C</title>\n<ellipse fill=\"none\" stroke=\"#000000\" cx=\"27\" cy=\"-234\" rx=\"27\" ry=\"18\"/>\n<text text-anchor=\"middle\" x=\"27\" y=\"-230.3\" font-family=\"Times,serif\" font-size=\"14.00\" fill=\"#000000\">C</text>\n</g>\n<!-- T -->\n<g id=\"node3\" class=\"node\">\n<title>T</title>\n<ellipse fill=\"none\" stroke=\"#000000\" cx=\"35\" cy=\"-162\" rx=\"27\" ry=\"18\"/>\n<text text-anchor=\"middle\" x=\"35\" y=\"-158.3\" font-family=\"Times,serif\" font-size=\"14.00\" fill=\"#000000\">T</text>\n</g>\n<!-- C&#45;&gt;T -->\n<g id=\"edge1\" class=\"edge\">\n<title>C&#45;&gt;T</title>\n<path fill=\"none\" stroke=\"#000000\" d=\"M29.0187,-215.8314C29.8743,-208.131 30.8917,-198.9743 31.8426,-190.4166\"/>\n<polygon fill=\"#000000\" stroke=\"#000000\" points=\"35.3283,-190.7386 32.9541,-180.4133 28.3711,-189.9656 35.3283,-190.7386\"/>\n</g>\n<!-- Y -->\n<g id=\"node2\" class=\"node\">\n<title>Y</title>\n<ellipse fill=\"none\" stroke=\"#000000\" cx=\"99\" cy=\"-90\" rx=\"27\" ry=\"18\"/>\n<text text-anchor=\"middle\" x=\"99\" y=\"-86.3\" font-family=\"Times,serif\" font-size=\"14.00\" fill=\"#000000\">Y</text>\n</g>\n<!-- H -->\n<g id=\"node5\" class=\"node\">\n<title>H</title>\n<ellipse fill=\"none\" stroke=\"#000000\" cx=\"99\" cy=\"-18\" rx=\"27\" ry=\"18\"/>\n<text text-anchor=\"middle\" x=\"99\" y=\"-14.3\" font-family=\"Times,serif\" font-size=\"14.00\" fill=\"#000000\">H</text>\n</g>\n<!-- Y&#45;&gt;H -->\n<g id=\"edge6\" class=\"edge\">\n<title>Y&#45;&gt;H</title>\n<path fill=\"none\" stroke=\"#000000\" d=\"M99,-71.8314C99,-64.131 99,-54.9743 99,-46.4166\"/>\n<polygon fill=\"#000000\" stroke=\"#000000\" points=\"102.5001,-46.4132 99,-36.4133 95.5001,-46.4133 102.5001,-46.4132\"/>\n</g>\n<!-- T&#45;&gt;Y -->\n<g id=\"edge5\" class=\"edge\">\n<title>T&#45;&gt;Y</title>\n<path fill=\"none\" stroke=\"#000000\" d=\"M48.887,-146.3771C57.5253,-136.659 68.7893,-123.987 78.4497,-113.1191\"/>\n<polygon fill=\"#000000\" stroke=\"#000000\" points=\"81.1123,-115.3918 85.1401,-105.5924 75.8804,-110.7413 81.1123,-115.3918\"/>\n</g>\n<!-- F -->\n<g id=\"node4\" class=\"node\">\n<title>F</title>\n<ellipse fill=\"none\" stroke=\"#000000\" cx=\"27\" cy=\"-90\" rx=\"27\" ry=\"18\"/>\n<text text-anchor=\"middle\" x=\"27\" y=\"-86.3\" font-family=\"Times,serif\" font-size=\"14.00\" fill=\"#000000\">F</text>\n</g>\n<!-- T&#45;&gt;F -->\n<g id=\"edge4\" class=\"edge\">\n<title>T&#45;&gt;F</title>\n<path fill=\"none\" stroke=\"#000000\" d=\"M32.9813,-143.8314C32.1257,-136.131 31.1083,-126.9743 30.1574,-118.4166\"/>\n<polygon fill=\"#000000\" stroke=\"#000000\" points=\"33.6289,-117.9656 29.0459,-108.4133 26.6717,-118.7386 33.6289,-117.9656\"/>\n</g>\n<!-- A -->\n<g id=\"node6\" class=\"node\">\n<title>A</title>\n<ellipse fill=\"none\" stroke=\"#000000\" cx=\"99\" cy=\"-234\" rx=\"27\" ry=\"18\"/>\n<text text-anchor=\"middle\" x=\"99\" y=\"-230.3\" font-family=\"Times,serif\" font-size=\"14.00\" fill=\"#000000\">A</text>\n</g>\n<!-- A&#45;&gt;Y -->\n<g id=\"edge3\" class=\"edge\">\n<title>A&#45;&gt;Y</title>\n<path fill=\"none\" stroke=\"#000000\" d=\"M99,-215.7623C99,-191.201 99,-147.2474 99,-118.3541\"/>\n<polygon fill=\"#000000\" stroke=\"#000000\" points=\"102.5001,-118.0896 99,-108.0896 95.5001,-118.0897 102.5001,-118.0896\"/>\n</g>\n<!-- A&#45;&gt;T -->\n<g id=\"edge2\" class=\"edge\">\n<title>A&#45;&gt;T</title>\n<path fill=\"none\" stroke=\"#000000\" d=\"M85.113,-218.3771C76.4747,-208.659 65.2107,-195.987 55.5503,-185.1191\"/>\n<polygon fill=\"#000000\" stroke=\"#000000\" points=\"58.1196,-182.7413 48.8599,-177.5924 52.8877,-187.3918 58.1196,-182.7413\"/>\n</g>\n</g>\n</svg>\n"
          },
          "metadata": {},
          "execution_count": 11
        }
      ]
    },
    {
      "cell_type": "markdown",
      "metadata": {
        "id": "CL8ceKwZibua"
      },
      "source": [
        "## Exercise 2:\n",
        "\n",
        "Calculate all bounds for the discrete model defined above and check if the true causel effect is within these bounds:"
      ]
    },
    {
      "cell_type": "code",
      "source": [
        "a = data_df[\"Y\"].min()\n",
        "b = data_df[\"Y\"].max()\n",
        "pi = len(data_df[data_df[\"T\"] == 1]) / len(data_df)\n",
        "e1 = data_df[data_df['T'] == 1]['Y'].mean()\n",
        "e0 = data_df[data_df['T'] == 0]['Y'].mean()"
      ],
      "metadata": {
        "id": "13uF20DJbHdA"
      },
      "execution_count": null,
      "outputs": []
    },
    {
      "cell_type": "code",
      "source": [
        "pi"
      ],
      "metadata": {
        "colab": {
          "base_uri": "https://localhost:8080/"
        },
        "id": "A1Cndz7SccIs",
        "outputId": "28fe88cb-73cf-4200-9603-95be3d401558"
      },
      "execution_count": null,
      "outputs": [
        {
          "output_type": "execute_result",
          "data": {
            "text/plain": [
              "0.600995"
            ]
          },
          "metadata": {},
          "execution_count": 13
        }
      ]
    },
    {
      "cell_type": "code",
      "metadata": {
        "id": "UVkNdp6V5tjU",
        "colab": {
          "base_uri": "https://localhost:8080/"
        },
        "outputId": "8351d9f9-1503-4a51-d6ce-4f4935da927b"
      },
      "source": [
        "print(\"The NAB interval for this model is:{}\".format(NAB(pi,a,b,e1,e0)))\n",
        "print(\"The non_negative MTR interval for this model is:{}\".format(MTR_nn(pi,a,b,e1,e0)))\n",
        "print(\"The non_positive MTR interval for this model is:{}\".format(MTR_np(pi,a,b,e1,e0)))\n",
        "print(\"The MTS interval for this model is:{}\".format(MTS(pi,a,b,e1,e0)))\n",
        "print(\"The MTS + MTR interval for this model is:{}\".format(MTS_MTR(pi,a,b,e1,e0)))\n",
        "print(\"The OTS1 interval for this model is:{}\".format(OTS1(pi,a,b,e1,e0)))\n",
        "print(\"The OTS2 interval for this model is is:{}\".format(OTS2(pi,a,b,e1,e0)))"
      ],
      "execution_count": null,
      "outputs": [
        {
          "output_type": "stream",
          "name": "stdout",
          "text": [
            "The NAB interval for this model is:(-0.34956600000000004, 0.650434)\n",
            "The non_negative MTR interval for this model is:(0, 0.650434)\n",
            "The non_positive MTR interval for this model is:(-0.34956600000000004, 0)\n",
            "The MTS interval for this model is:(-0.34956600000000004, 0.28721774028358227)\n",
            "The MTS + MTR interval for this model is:(0, 0.28721774028358227)\n",
            "The OTS1 interval for this model is:(-0.15568400000000002, 0.40711299999999995)\n",
            "The OTS2 interval for this model is is:(0.01693242582173149, 0.5217143144618507)\n"
          ]
        }
      ]
    },
    {
      "cell_type": "markdown",
      "metadata": {
        "id": "aVT6daMjlEYG"
      },
      "source": [
        "### MTS: \n",
        "$E[Y(1) | T=1] \\geq E[Y(1) | T=0]$ and \n",
        "$E[Y(0) | T=1] \\geq E[Y(0) | T=0]$\n",
        "\n",
        "What is the intuition behind this assumption? How can we change the model to satisfy the assumption?\n",
        "\n",
        "What about the following modification?"
      ]
    },
    {
      "cell_type": "markdown",
      "metadata": {
        "id": "9Buzfg0QlY3z"
      },
      "source": [
        "<code>\n",
        "\"T\": discrete_model([\"C\", \"A\"], { <br>\n",
        "        (0, 0): (0.7, 0.3), <br>\n",
        "        (0, 1): (0.1, 0.9), <br>\n",
        "        (1, 0): (0.8, 0.2), <br>\n",
        "        (1, 1): (0.3, 0.7), <br>\n",
        "        }),\n",
        "</code>"
      ]
    },
    {
      "cell_type": "markdown",
      "source": [
        "**Answer** The intuition is that the treatment group's potential outcomes are better than the control groups. It means that in the model the probability of T = 1 is always bigger than the probability of T = 0\n",
        "\n",
        "So it can be modified like this:\n",
        "\n",
        "    \"T\": discrete_model([\"C\", \"A\"], {\n",
        "        (0, 0): (0.3, 0.7), \n",
        "        (0, 1): (0.1, 0.9),\n",
        "        (1, 0): (0.3, 0.7),\n",
        "        (1, 1): (0.2, 0.8),\n",
        "        }), \n"
      ],
      "metadata": {
        "id": "OEQY7PaihSqQ"
      }
    },
    {
      "cell_type": "markdown",
      "source": [
        "*In the modification mentioned in the question, I think this does not happen and in 2 cases the probability of T=0 is bigger than T=1."
      ],
      "metadata": {
        "id": "NuVsOF1MiSs2"
      }
    },
    {
      "cell_type": "markdown",
      "metadata": {
        "id": "uRXSG-8RnVgd"
      },
      "source": [
        "### OTS:\n",
        "$T_i=1 \\rightarrow Y_i(1) \\geq Y_i(0)$ and\n",
        "$T_i=0 \\rightarrow Y_i(1) < Y_i(0)$\n",
        "\n",
        "What is the intuition behind this assumption? How can we change the model to satisfy the assumption?\n",
        "\n",
        "What about the following modification?\n",
        "\n",
        "<code>\n",
        "\"Y\": discrete_model([\"A\", \"T\"], { <br>\n",
        "        (0, 0): (0.4, 0.6), <br>\n",
        "        (0, 1): (0.7, 0.3), <br>\n",
        "        (1, 0): (0.9, 0.1), <br>\n",
        "        (1, 1): (0.1, 0.9), <br>\n",
        "        }),\n",
        "</code>"
      ]
    },
    {
      "cell_type": "markdown",
      "source": [
        "**Answer** The intuition behind this assumption is that each individual gets the treatment which is best for them. So the probability of Y=1 should be bigger when T=1, and Y=0 should be bigger when T=0.\n",
        "\n",
        "So it can be modified like this:\n",
        "\n",
        "    \"Y\": discrete_model([\"A\", \"T\"], {\n",
        "        (0, 0): (0.9, 0.1), \n",
        "        (0, 1): (0.3, 0.7),\n",
        "        (1, 0): (0.6, 0.4),\n",
        "        (1, 1): (0.4, 0.6),\n",
        "        }),"
      ],
      "metadata": {
        "id": "kIi6ZtL5i4V7"
      }
    },
    {
      "cell_type": "markdown",
      "source": [
        "*In the modifiction mentioned in the question it is not the case, because the probability of Y=0 is lower than Y=1 when T=0 in (0.4,0.6), and the probability of Y=1 is lower than Y=0 when T=1 in (0.7,0.3)."
      ],
      "metadata": {
        "id": "rHAAgilvka1k"
      }
    },
    {
      "cell_type": "markdown",
      "metadata": {
        "id": "0UF6X4ukspis"
      },
      "source": [
        "# Excercise 3\n",
        "\n",
        "Start with the following model and adjust it such that OTS allows identifyng the sign of the causal effect.\n",
        "\n",
        "Remember the logic behind each assumption."
      ]
    },
    {
      "cell_type": "code",
      "metadata": {
        "colab": {
          "base_uri": "https://localhost:8080/",
          "height": 290
        },
        "id": "z-uLjGOB3fmi",
        "outputId": "6bde2e76-2b93-4bf6-ac57-60af100529e0"
      },
      "source": [
        "fd_disc = StructuralCausalModel({\n",
        "    \"A\": lambda n_samples: np.random.binomial(n=1, p=0.5, size=n_samples),\n",
        "    \"T\": discrete_model([\"A\"], {\n",
        "        (0,): (0.6, 0.4),\n",
        "        (1,): (0.4, 0.6),\n",
        "        }), \n",
        "    \"Y\": discrete_model([\"A\", \"T\"], {\n",
        "        (0, 0): (0.4, 0.6), \n",
        "        (0, 1): (0.7, 0.3),\n",
        "        (1, 0): (0.9, 0.1),\n",
        "        (1, 1): (0.1, 0.9),\n",
        "        }),\n",
        "})\n",
        "# sampling\n",
        "data_df = fd_disc.sample(n_samples = 1000000)\n",
        "\n",
        "# calculation true ATE\n",
        "set_variable_X = np.array([0]*500000 + [1]*500000)\n",
        "ab_test_df = fd_disc.do('T').sample(\n",
        "                    set_values={'T': set_variable_X}, \n",
        "                    n_samples=len(set_variable_X),\n",
        "                  )\n",
        "true_ate = ab_test_df[ab_test_df['T'] == 1]['Y'].mean() - ab_test_df[ab_test_df['T'] == 0]['Y'].mean()\n",
        "print('True_ATE = {}'.format(true_ate))\n",
        "\n",
        "fd_disc.cgm.draw()"
      ],
      "execution_count": null,
      "outputs": [
        {
          "output_type": "stream",
          "name": "stdout",
          "text": [
            "True_ATE = 0.24889999999999995\n"
          ]
        },
        {
          "output_type": "execute_result",
          "data": {
            "text/plain": [
              "<graphviz.dot.Digraph at 0x7f4a7769e6d0>"
            ],
            "image/svg+xml": "<?xml version=\"1.0\" encoding=\"UTF-8\" standalone=\"no\"?>\n<!DOCTYPE svg PUBLIC \"-//W3C//DTD SVG 1.1//EN\"\n \"http://www.w3.org/Graphics/SVG/1.1/DTD/svg11.dtd\">\n<!-- Generated by graphviz version 2.40.1 (20161225.0304)\n -->\n<!-- Title: %3 Pages: 1 -->\n<svg width=\"90pt\" height=\"188pt\"\n viewBox=\"0.00 0.00 90.00 188.00\" xmlns=\"http://www.w3.org/2000/svg\" xmlns:xlink=\"http://www.w3.org/1999/xlink\">\n<g id=\"graph0\" class=\"graph\" transform=\"scale(1 1) rotate(0) translate(4 184)\">\n<title>%3</title>\n<polygon fill=\"#ffffff\" stroke=\"transparent\" points=\"-4,4 -4,-184 86,-184 86,4 -4,4\"/>\n<!-- A -->\n<g id=\"node1\" class=\"node\">\n<title>A</title>\n<ellipse fill=\"none\" stroke=\"#000000\" cx=\"27\" cy=\"-162\" rx=\"27\" ry=\"18\"/>\n<text text-anchor=\"middle\" x=\"27\" y=\"-158.3\" font-family=\"Times,serif\" font-size=\"14.00\" fill=\"#000000\">A</text>\n</g>\n<!-- Y -->\n<g id=\"node2\" class=\"node\">\n<title>Y</title>\n<ellipse fill=\"none\" stroke=\"#000000\" cx=\"27\" cy=\"-18\" rx=\"27\" ry=\"18\"/>\n<text text-anchor=\"middle\" x=\"27\" y=\"-14.3\" font-family=\"Times,serif\" font-size=\"14.00\" fill=\"#000000\">Y</text>\n</g>\n<!-- A&#45;&gt;Y -->\n<g id=\"edge2\" class=\"edge\">\n<title>A&#45;&gt;Y</title>\n<path fill=\"none\" stroke=\"#000000\" d=\"M23.6685,-144.0736C21.8913,-133.5982 19.8913,-120.0982 19,-108 17.8244,-92.0432 17.8244,-87.9568 19,-72 19.6267,-63.4935 20.8015,-54.2939 22.0616,-45.9399\"/>\n<polygon fill=\"#000000\" stroke=\"#000000\" points=\"25.5398,-46.3546 23.6685,-35.9264 18.6282,-45.2455 25.5398,-46.3546\"/>\n</g>\n<!-- T -->\n<g id=\"node3\" class=\"node\">\n<title>T</title>\n<ellipse fill=\"none\" stroke=\"#000000\" cx=\"55\" cy=\"-90\" rx=\"27\" ry=\"18\"/>\n<text text-anchor=\"middle\" x=\"55\" y=\"-86.3\" font-family=\"Times,serif\" font-size=\"14.00\" fill=\"#000000\">T</text>\n</g>\n<!-- A&#45;&gt;T -->\n<g id=\"edge1\" class=\"edge\">\n<title>A&#45;&gt;T</title>\n<path fill=\"none\" stroke=\"#000000\" d=\"M33.778,-144.5708C36.9872,-136.3187 40.8935,-126.2738 44.4758,-117.0623\"/>\n<polygon fill=\"#000000\" stroke=\"#000000\" points=\"47.8248,-118.1069 48.1874,-107.5182 41.3008,-115.5697 47.8248,-118.1069\"/>\n</g>\n<!-- T&#45;&gt;Y -->\n<g id=\"edge3\" class=\"edge\">\n<title>T&#45;&gt;Y</title>\n<path fill=\"none\" stroke=\"#000000\" d=\"M48.222,-72.5708C45.0128,-64.3187 41.1065,-54.2738 37.5242,-45.0623\"/>\n<polygon fill=\"#000000\" stroke=\"#000000\" points=\"40.6992,-43.5697 33.8126,-35.5182 34.1752,-46.1069 40.6992,-43.5697\"/>\n</g>\n</g>\n</svg>\n"
          },
          "metadata": {},
          "execution_count": 15
        }
      ]
    },
    {
      "cell_type": "markdown",
      "metadata": {
        "id": "KDHRoxa9s3c-"
      },
      "source": [
        "Your solution"
      ]
    },
    {
      "cell_type": "code",
      "metadata": {
        "id": "nzy2oGUZyPI_"
      },
      "source": [
        "a1 = data_df[\"Y\"].min()\n",
        "b1 = data_df[\"Y\"].max()\n",
        "pi1 = len(data_df[data_df[\"T\"] == 1]) / len(data_df)\n",
        "e1_1 = data_df[data_df['T'] == 1]['Y'].mean()\n",
        "e1_0 = data_df[data_df['T'] == 0]['Y'].mean()"
      ],
      "execution_count": null,
      "outputs": []
    },
    {
      "cell_type": "code",
      "source": [
        "print(\"The OTS2 interval for this model is is:{}\".format(OTS2(pi1,a1,b1,e1_1,e1_0)))"
      ],
      "metadata": {
        "colab": {
          "base_uri": "https://localhost:8080/"
        },
        "id": "B9XyIsyzhOPa",
        "outputId": "015dbb7e-1933-464f-b561-29afe22e92c0"
      },
      "execution_count": null,
      "outputs": [
        {
          "output_type": "stream",
          "name": "stdout",
          "text": [
            "The OTS2 interval for this model is is:(-0.06951370433412707, 0.46074502519172394)\n"
          ]
        }
      ]
    },
    {
      "cell_type": "markdown",
      "source": [
        "**Answer** Here we can see that OTS2 which allows identifying the sign of the causal effect does not work because the interval ranges from - to +. It is because the model does not satisfy the assumptions of the OTS2."
      ],
      "metadata": {
        "id": "M-kUs5Dmhpub"
      }
    },
    {
      "cell_type": "markdown",
      "source": [
        "In this model:\n",
        "\n",
        "    \"Y\": discrete_model([\"A\", \"T\"], {\n",
        "        (0, 0): (0.4, 0.6), \n",
        "        (0, 1): (0.7, 0.3),\n",
        "        (1, 0): (0.9, 0.1),\n",
        "        (1, 1): (0.1, 0.9),\n",
        "        }),\n",
        "\n",
        "when T=0 the probability of Y=0 must be higher and when T=1 the probability of Y=1 should be higher, which is not the case here. It can be modified like below:\n",
        "\n",
        "    \"Y\": discrete_model([\"A\", \"T\"], {\n",
        "        (0, 0): (0.6, 0.4), \n",
        "        (0, 1): (0.3, 0.7),\n",
        "        (1, 0): (0.9, 0.1),\n",
        "        (1, 1): (0.1, 0.9),\n",
        "        }),\n"
      ],
      "metadata": {
        "id": "0X_Z_gFPitQL"
      }
    },
    {
      "cell_type": "code",
      "source": [
        "fd_disc = StructuralCausalModel({\n",
        "    \"A\": lambda n_samples: np.random.binomial(n=1, p=0.5, size=n_samples),\n",
        "    \"T\": discrete_model([\"A\"], {\n",
        "        (0,): (0.6, 0.4),\n",
        "        (1,): (0.4, 0.6),\n",
        "        }), \n",
        "    \"Y\": discrete_model([\"A\", \"T\"], {\n",
        "        (0, 0): (0.6, 0.4), \n",
        "        (0, 1): (0.3, 0.7),\n",
        "        (1, 0): (0.9, 0.1),\n",
        "        (1, 1): (0.1, 0.9),\n",
        "        }),\n",
        "\n",
        "})\n",
        "# sampling\n",
        "data_df = fd_disc.sample(n_samples = 1000000)\n",
        "\n",
        "# calculation true ATE\n",
        "set_variable_X = np.array([0]*500000 + [1]*500000)\n",
        "ab_test_df = fd_disc.do('T').sample(\n",
        "                    set_values={'T': set_variable_X}, \n",
        "                    n_samples=len(set_variable_X),\n",
        "                  )\n",
        "true_ate = ab_test_df[ab_test_df['T'] == 1]['Y'].mean() - ab_test_df[ab_test_df['T'] == 0]['Y'].mean()\n",
        "print('True_ATE = {}'.format(true_ate))\n",
        "\n",
        "fd_disc.cgm.draw()"
      ],
      "metadata": {
        "colab": {
          "base_uri": "https://localhost:8080/",
          "height": 290
        },
        "id": "ZJlqabMnjU-H",
        "outputId": "8f2dc408-fbab-430d-d0ae-66b3aca585ba"
      },
      "execution_count": null,
      "outputs": [
        {
          "output_type": "stream",
          "name": "stdout",
          "text": [
            "True_ATE = 0.5501360000000001\n"
          ]
        },
        {
          "output_type": "execute_result",
          "data": {
            "text/plain": [
              "<graphviz.dot.Digraph at 0x7f4a77532290>"
            ],
            "image/svg+xml": "<?xml version=\"1.0\" encoding=\"UTF-8\" standalone=\"no\"?>\n<!DOCTYPE svg PUBLIC \"-//W3C//DTD SVG 1.1//EN\"\n \"http://www.w3.org/Graphics/SVG/1.1/DTD/svg11.dtd\">\n<!-- Generated by graphviz version 2.40.1 (20161225.0304)\n -->\n<!-- Title: %3 Pages: 1 -->\n<svg width=\"90pt\" height=\"188pt\"\n viewBox=\"0.00 0.00 90.00 188.00\" xmlns=\"http://www.w3.org/2000/svg\" xmlns:xlink=\"http://www.w3.org/1999/xlink\">\n<g id=\"graph0\" class=\"graph\" transform=\"scale(1 1) rotate(0) translate(4 184)\">\n<title>%3</title>\n<polygon fill=\"#ffffff\" stroke=\"transparent\" points=\"-4,4 -4,-184 86,-184 86,4 -4,4\"/>\n<!-- A -->\n<g id=\"node1\" class=\"node\">\n<title>A</title>\n<ellipse fill=\"none\" stroke=\"#000000\" cx=\"27\" cy=\"-162\" rx=\"27\" ry=\"18\"/>\n<text text-anchor=\"middle\" x=\"27\" y=\"-158.3\" font-family=\"Times,serif\" font-size=\"14.00\" fill=\"#000000\">A</text>\n</g>\n<!-- Y -->\n<g id=\"node2\" class=\"node\">\n<title>Y</title>\n<ellipse fill=\"none\" stroke=\"#000000\" cx=\"27\" cy=\"-18\" rx=\"27\" ry=\"18\"/>\n<text text-anchor=\"middle\" x=\"27\" y=\"-14.3\" font-family=\"Times,serif\" font-size=\"14.00\" fill=\"#000000\">Y</text>\n</g>\n<!-- A&#45;&gt;Y -->\n<g id=\"edge2\" class=\"edge\">\n<title>A&#45;&gt;Y</title>\n<path fill=\"none\" stroke=\"#000000\" d=\"M23.6685,-144.0736C21.8913,-133.5982 19.8913,-120.0982 19,-108 17.8244,-92.0432 17.8244,-87.9568 19,-72 19.6267,-63.4935 20.8015,-54.2939 22.0616,-45.9399\"/>\n<polygon fill=\"#000000\" stroke=\"#000000\" points=\"25.5398,-46.3546 23.6685,-35.9264 18.6282,-45.2455 25.5398,-46.3546\"/>\n</g>\n<!-- T -->\n<g id=\"node3\" class=\"node\">\n<title>T</title>\n<ellipse fill=\"none\" stroke=\"#000000\" cx=\"55\" cy=\"-90\" rx=\"27\" ry=\"18\"/>\n<text text-anchor=\"middle\" x=\"55\" y=\"-86.3\" font-family=\"Times,serif\" font-size=\"14.00\" fill=\"#000000\">T</text>\n</g>\n<!-- A&#45;&gt;T -->\n<g id=\"edge1\" class=\"edge\">\n<title>A&#45;&gt;T</title>\n<path fill=\"none\" stroke=\"#000000\" d=\"M33.778,-144.5708C36.9872,-136.3187 40.8935,-126.2738 44.4758,-117.0623\"/>\n<polygon fill=\"#000000\" stroke=\"#000000\" points=\"47.8248,-118.1069 48.1874,-107.5182 41.3008,-115.5697 47.8248,-118.1069\"/>\n</g>\n<!-- T&#45;&gt;Y -->\n<g id=\"edge3\" class=\"edge\">\n<title>T&#45;&gt;Y</title>\n<path fill=\"none\" stroke=\"#000000\" d=\"M48.222,-72.5708C45.0128,-64.3187 41.1065,-54.2738 37.5242,-45.0623\"/>\n<polygon fill=\"#000000\" stroke=\"#000000\" points=\"40.6992,-43.5697 33.8126,-35.5182 34.1752,-46.1069 40.6992,-43.5697\"/>\n</g>\n</g>\n</svg>\n"
          },
          "metadata": {},
          "execution_count": 20
        }
      ]
    },
    {
      "cell_type": "code",
      "source": [
        "a2 = data_df[\"Y\"].min()\n",
        "b2 = data_df[\"Y\"].max()\n",
        "pi2 = len(data_df[data_df[\"T\"] == 1]) / len(data_df)\n",
        "e2_1 = data_df[data_df['T'] == 1]['Y'].mean()\n",
        "e2_0 = data_df[data_df['T'] == 0]['Y'].mean()"
      ],
      "metadata": {
        "id": "rJGUlQxWjdVn"
      },
      "execution_count": null,
      "outputs": []
    },
    {
      "cell_type": "code",
      "source": [
        "print(\"The OTS2 interval for this model is is:{}\".format(OTS2(pi2,a2,b2,e2_1,e2_0)))"
      ],
      "metadata": {
        "colab": {
          "base_uri": "https://localhost:8080/"
        },
        "id": "94ZfKLKajhsT",
        "outputId": "13bc0e58-9936-4c3a-ed24-95907bc2560e"
      },
      "execution_count": null,
      "outputs": [
        {
          "output_type": "stream",
          "name": "stdout",
          "text": [
            "The OTS2 interval for this model is is:(0.1291885391432379, 0.6798069690313772)\n"
          ]
        }
      ]
    },
    {
      "cell_type": "markdown",
      "source": [
        "Here OTS2 allows identifying the sign of the causal effect."
      ],
      "metadata": {
        "id": "F-1Jica6jjXY"
      }
    }
  ]
}
