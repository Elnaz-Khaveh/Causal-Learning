{
  "nbformat": 4,
  "nbformat_minor": 0,
  "metadata": {
    "colab": {
      "provenance": [],
      "collapsed_sections": [
        "bFIBkPY8thgg"
      ]
    },
    "kernelspec": {
      "display_name": "Python 3",
      "name": "python3"
    }
  },
  "cells": [
    {
      "cell_type": "markdown",
      "metadata": {
        "id": "NnMWpPBxELK2"
      },
      "source": [
        "Loading libraries"
      ]
    },
    {
      "cell_type": "code",
      "metadata": {
        "colab": {
          "base_uri": "https://localhost:8080/"
        },
        "id": "trm8jym3FJXI",
        "outputId": "09d88b2f-1378-41e7-80d9-a6e7c984d48d"
      },
      "source": [
        "pip install causalgraphicalmodels"
      ],
      "execution_count": null,
      "outputs": [
        {
          "output_type": "stream",
          "name": "stdout",
          "text": [
            "Looking in indexes: https://pypi.org/simple, https://us-python.pkg.dev/colab-wheels/public/simple/\n",
            "Requirement already satisfied: causalgraphicalmodels in /usr/local/lib/python3.7/dist-packages (0.0.4)\n",
            "Requirement already satisfied: networkx in /usr/local/lib/python3.7/dist-packages (from causalgraphicalmodels) (2.6.3)\n",
            "Requirement already satisfied: graphviz in /usr/local/lib/python3.7/dist-packages (from causalgraphicalmodels) (0.10.1)\n",
            "Requirement already satisfied: numpy in /usr/local/lib/python3.7/dist-packages (from causalgraphicalmodels) (1.21.6)\n",
            "Requirement already satisfied: pandas in /usr/local/lib/python3.7/dist-packages (from causalgraphicalmodels) (1.3.5)\n",
            "Requirement already satisfied: pytz>=2017.3 in /usr/local/lib/python3.7/dist-packages (from pandas->causalgraphicalmodels) (2022.6)\n",
            "Requirement already satisfied: python-dateutil>=2.7.3 in /usr/local/lib/python3.7/dist-packages (from pandas->causalgraphicalmodels) (2.8.2)\n",
            "Requirement already satisfied: six>=1.5 in /usr/local/lib/python3.7/dist-packages (from python-dateutil>=2.7.3->pandas->causalgraphicalmodels) (1.15.0)\n"
          ]
        }
      ]
    },
    {
      "cell_type": "code",
      "metadata": {
        "id": "_gsreLGhEBlT"
      },
      "source": [
        "import numpy as np\n",
        "import matplotlib.pyplot as plt\n",
        "from matplotlib.pyplot import figure\n",
        "\n",
        "from causalgraphicalmodels import StructuralCausalModel\n",
        "from causalgraphicalmodels.csm import discrete_model, linear_model\n",
        "\n",
        "import networkx as nx"
      ],
      "execution_count": null,
      "outputs": []
    },
    {
      "cell_type": "markdown",
      "metadata": {
        "id": "gjUtFFb-0QES"
      },
      "source": [
        "Functions for independence testing"
      ]
    },
    {
      "cell_type": "code",
      "metadata": {
        "id": "AtvvvlRa0Sp8"
      },
      "source": [
        "def is_indep(arr_1, arr_2, threshold=0.01, verbose=False):\n",
        "    diff = arr_1.mean() * arr_2.mean() - (arr_1 * arr_2).mean()\n",
        "    if verbose:\n",
        "        print(diff)\n",
        "    return abs(diff) < threshold\n",
        "\n",
        "def is_cond_independent(data_df, var_1, var_2, cond_set):\n",
        "    # create a copy with different combinations of values in cond_set\n",
        "    data_df_tmp = data_df.copy()\n",
        "    tmp_arr = data_df_tmp[cond_set[0]].astype(str).values\n",
        "    for el in cond_set[1:]:\n",
        "        tmp_arr += ' ' + data_df_tmp[el].astype(str)\n",
        "    data_df_tmp['cond'] = tmp_arr\n",
        "\n",
        "    # get unique combinations of values in cond_set\n",
        "    cond_vals = data_df_tmp['cond'].unique()\n",
        "\n",
        "    # for every possible combination check if we have independence\n",
        "    for cond_val in cond_vals:\n",
        "        tmp_df = data_df_tmp[data_df_tmp['cond'] == cond_vals[0]]\n",
        "        if not is_indep(tmp_df[var_1].values, tmp_df[var_2].values):\n",
        "            return False\n",
        "    return True"
      ],
      "execution_count": null,
      "outputs": []
    },
    {
      "cell_type": "markdown",
      "metadata": {
        "id": "JB2TvIFCFRTS"
      },
      "source": [
        "# Generating data"
      ]
    },
    {
      "cell_type": "markdown",
      "metadata": {
        "id": "gg34PPguFfoH"
      },
      "source": [
        "For data generation we will be using python package [`causalgraphicalmodels`](https://github.com/ijmbarr/causalgraphicalmodels)"
      ]
    },
    {
      "cell_type": "code",
      "metadata": {
        "colab": {
          "base_uri": "https://localhost:8080/",
          "height": 272
        },
        "id": "QET6FW8OgCvv",
        "outputId": "145c8867-da7f-418d-8287-4f0ad08be539"
      },
      "source": [
        "fd0 = StructuralCausalModel({\n",
        "    \"x\": lambda n_samples: np.random.binomial(n=1, p=0.5, size=n_samples),\n",
        "    \"y\": lambda n_samples: np.random.binomial(n=1, p=0.5, size=n_samples),\n",
        "    \"z\": discrete_model([\"x\", \"y\"], {\n",
        "        (0,0): (0.1,0.9,), \n",
        "        (0,1): (0.3,0.7,),\n",
        "        (1,0): (0.8,0.2,),\n",
        "        (1,1): (0.9,0.1,),\n",
        "        }),\n",
        "    \"w\": discrete_model([\"z\"],{\n",
        "        (0,): (0.8,0.2,),\n",
        "        (1,): (0.1,0.9,), \n",
        "    })\n",
        "})\n",
        "\n",
        "fd0.cgm.draw()"
      ],
      "execution_count": null,
      "outputs": [
        {
          "output_type": "execute_result",
          "data": {
            "text/plain": [
              "<graphviz.dot.Digraph at 0x7f9f902cdd10>"
            ],
            "image/svg+xml": "<?xml version=\"1.0\" encoding=\"UTF-8\" standalone=\"no\"?>\n<!DOCTYPE svg PUBLIC \"-//W3C//DTD SVG 1.1//EN\"\n \"http://www.w3.org/Graphics/SVG/1.1/DTD/svg11.dtd\">\n<!-- Generated by graphviz version 2.40.1 (20161225.0304)\n -->\n<!-- Title: %3 Pages: 1 -->\n<svg width=\"134pt\" height=\"188pt\"\n viewBox=\"0.00 0.00 134.00 188.00\" xmlns=\"http://www.w3.org/2000/svg\" xmlns:xlink=\"http://www.w3.org/1999/xlink\">\n<g id=\"graph0\" class=\"graph\" transform=\"scale(1 1) rotate(0) translate(4 184)\">\n<title>%3</title>\n<polygon fill=\"#ffffff\" stroke=\"transparent\" points=\"-4,4 -4,-184 130,-184 130,4 -4,4\"/>\n<!-- x -->\n<g id=\"node1\" class=\"node\">\n<title>x</title>\n<ellipse fill=\"none\" stroke=\"#000000\" cx=\"27\" cy=\"-162\" rx=\"27\" ry=\"18\"/>\n<text text-anchor=\"middle\" x=\"27\" y=\"-158.3\" font-family=\"Times,serif\" font-size=\"14.00\" fill=\"#000000\">x</text>\n</g>\n<!-- z -->\n<g id=\"node2\" class=\"node\">\n<title>z</title>\n<ellipse fill=\"none\" stroke=\"#000000\" cx=\"63\" cy=\"-90\" rx=\"27\" ry=\"18\"/>\n<text text-anchor=\"middle\" x=\"63\" y=\"-86.3\" font-family=\"Times,serif\" font-size=\"14.00\" fill=\"#000000\">z</text>\n</g>\n<!-- x&#45;&gt;z -->\n<g id=\"edge1\" class=\"edge\">\n<title>x&#45;&gt;z</title>\n<path fill=\"none\" stroke=\"#000000\" d=\"M35.7146,-144.5708C39.9597,-136.0807 45.1536,-125.6929 49.8663,-116.2674\"/>\n<polygon fill=\"#000000\" stroke=\"#000000\" points=\"53.024,-117.7782 54.3657,-107.2687 46.763,-114.6477 53.024,-117.7782\"/>\n</g>\n<!-- w -->\n<g id=\"node4\" class=\"node\">\n<title>w</title>\n<ellipse fill=\"none\" stroke=\"#000000\" cx=\"63\" cy=\"-18\" rx=\"27\" ry=\"18\"/>\n<text text-anchor=\"middle\" x=\"63\" y=\"-14.3\" font-family=\"Times,serif\" font-size=\"14.00\" fill=\"#000000\">w</text>\n</g>\n<!-- z&#45;&gt;w -->\n<g id=\"edge3\" class=\"edge\">\n<title>z&#45;&gt;w</title>\n<path fill=\"none\" stroke=\"#000000\" d=\"M63,-71.8314C63,-64.131 63,-54.9743 63,-46.4166\"/>\n<polygon fill=\"#000000\" stroke=\"#000000\" points=\"66.5001,-46.4132 63,-36.4133 59.5001,-46.4133 66.5001,-46.4132\"/>\n</g>\n<!-- y -->\n<g id=\"node3\" class=\"node\">\n<title>y</title>\n<ellipse fill=\"none\" stroke=\"#000000\" cx=\"99\" cy=\"-162\" rx=\"27\" ry=\"18\"/>\n<text text-anchor=\"middle\" x=\"99\" y=\"-158.3\" font-family=\"Times,serif\" font-size=\"14.00\" fill=\"#000000\">y</text>\n</g>\n<!-- y&#45;&gt;z -->\n<g id=\"edge2\" class=\"edge\">\n<title>y&#45;&gt;z</title>\n<path fill=\"none\" stroke=\"#000000\" d=\"M90.2854,-144.5708C86.0403,-136.0807 80.8464,-125.6929 76.1337,-116.2674\"/>\n<polygon fill=\"#000000\" stroke=\"#000000\" points=\"79.237,-114.6477 71.6343,-107.2687 72.976,-117.7782 79.237,-114.6477\"/>\n</g>\n</g>\n</svg>\n"
          },
          "metadata": {},
          "execution_count": 124
        }
      ]
    },
    {
      "cell_type": "markdown",
      "metadata": {
        "id": "H32oyZm9FsWY"
      },
      "source": [
        "Now we can sample data from the generated model"
      ]
    },
    {
      "cell_type": "code",
      "metadata": {
        "id": "wqjiNFuGFD8s"
      },
      "source": [
        "n_samples=1000000\n",
        "# n_samples=1000\n",
        "data_df = fd0.sample(n_samples=n_samples)"
      ],
      "execution_count": null,
      "outputs": []
    },
    {
      "cell_type": "markdown",
      "metadata": {
        "id": "DtfgM_AzMcv4"
      },
      "source": [
        "# Step 1. Fully connected graph"
      ]
    },
    {
      "cell_type": "code",
      "metadata": {
        "id": "eiIa4E4kPA1r"
      },
      "source": [
        "all_nodes = ['x', 'y', 'z', 'w']\n",
        "nodes_pos = {'x': (1, 5), 'y': (5, 5), 'z': (1, 1), 'w': (5, 1)}"
      ],
      "execution_count": null,
      "outputs": []
    },
    {
      "cell_type": "code",
      "metadata": {
        "colab": {
          "base_uri": "https://localhost:8080/",
          "height": 247
        },
        "id": "Wjah20FgOFjX",
        "outputId": "1745fdc8-a9a1-4f08-ae78-28c90c8d4af8"
      },
      "source": [
        "G = nx.Graph()\n",
        "G.add_nodes_from(all_nodes)\n",
        "#G.add_nodes_from(tuple(zip(all_nodes, nodes_pos)))\n",
        "\n",
        "for i in range(0, len(all_nodes)):\n",
        "    node_1 = all_nodes[i]\n",
        "    for j in range(i+1, len(all_nodes)):\n",
        "        node_2 = all_nodes[j]\n",
        "        G.add_edge(node_1, node_2)\n",
        "\n",
        "plt.figure(figsize=(5, 3))\n",
        "nx.draw(G, pos=nodes_pos, with_labels=True, font_weight='bold')"
      ],
      "execution_count": null,
      "outputs": [
        {
          "output_type": "display_data",
          "data": {
            "text/plain": [
              "<Figure size 360x216 with 1 Axes>"
            ],
            "image/png": "[encoded data removed]"
          },
          "metadata": {}
        }
      ]
    },
    {
      "cell_type": "markdown",
      "metadata": {
        "id": "KQcBC_-0K47-"
      },
      "source": [
        "# Step 2. Test unconditional independence"
      ]
    },
    {
      "cell_type": "code",
      "metadata": {
        "colab": {
          "base_uri": "https://localhost:8080/"
        },
        "id": "h8EFiX8-JpXI",
        "outputId": "341755e3-289d-43b1-db6d-3a27cafa92b3"
      },
      "source": [
        "for i in range(0, len(all_nodes)):\n",
        "    var_1 = all_nodes[i]\n",
        "    for j in range(i + 1, len(all_nodes)):\n",
        "        var_2 = all_nodes[j]\n",
        "        # testStat, thresh = hsic_gam(data_df[var_1].values.reshape(-1, 1), data_df[var_2].values.reshape(-1, 1), alph=alph)\n",
        "        # print(testStat, thresh)\n",
        "        print(\"{} and {} are independent: {}\".format(var_1, var_2, \n",
        "                                                     is_indep(data_df[var_1].values, data_df[var_2].values)))"
      ],
      "execution_count": null,
      "outputs": [
        {
          "output_type": "stream",
          "name": "stdout",
          "text": [
            "x and y are independent: True\n",
            "x and z are independent: False\n",
            "x and w are independent: False\n",
            "y and z are independent: False\n",
            "y and w are independent: False\n",
            "z and w are independent: False\n"
          ]
        }
      ]
    },
    {
      "cell_type": "markdown",
      "metadata": {
        "id": "z_FeQ0mSnD_T"
      },
      "source": [
        "Removing edge between $X$ and $Y$"
      ]
    },
    {
      "cell_type": "code",
      "metadata": {
        "colab": {
          "base_uri": "https://localhost:8080/",
          "height": 247
        },
        "id": "YtEfxxhmJpUC",
        "outputId": "3e4e6a63-c739-4133-cfbf-2d5515254cd2"
      },
      "source": [
        "G.remove_edge('x', 'y')\n",
        "plt.figure(figsize=(5, 3))\n",
        "nx.draw(G, pos=nodes_pos, with_labels=True, font_weight='bold')"
      ],
      "execution_count": null,
      "outputs": [
        {
          "output_type": "display_data",
          "data": {
            "text/plain": [
              "<Figure size 360x216 with 1 Axes>"
            ],
            "image/png": "[encoded data removed]"
          },
          "metadata": {}
        }
      ]
    },
    {
      "cell_type": "markdown",
      "metadata": {
        "id": "QvKg70whTNxV"
      },
      "source": [
        "# Step 3. Condition on 1 variable\n",
        "For each pair of variables ($A$, $B$) having an edge between them, and for each variable $C$ with an edge connected to either of them, eliminate the edge between $A$ and $B$ if $\\left(A ⊥⊥ B\\right) | C$ "
      ]
    },
    {
      "cell_type": "code",
      "metadata": {
        "id": "0e9T6U1eJpRb"
      },
      "source": [
        "combinations = [\n",
        "                ('x', 'z', 'w'), ('x', 'z', 'y'), \n",
        "                ('y', 'w', 'z'), ('y', 'w', 'x'),\n",
        "                ('z', 'w', 'x'), ('z', 'w', 'y'),\n",
        "                ('x', 'w', 'z'), ('x', 'w', 'y'),\n",
        "                ('y', 'z', 'x'), ('y', 'z', 'w'),\n",
        "                ]"
      ],
      "execution_count": null,
      "outputs": []
    },
    {
      "cell_type": "code",
      "metadata": {
        "colab": {
          "base_uri": "https://localhost:8080/"
        },
        "id": "v2LFd-7UUv3A",
        "outputId": "e1b2b08f-487d-4d32-ed58-77f115292fa6"
      },
      "source": [
        "for var_1, var_2, cond_var in combinations:\n",
        "    print('{} and {} are independent given {} = {}'.format(\n",
        "        var_1, var_2, cond_var, is_cond_independent(data_df, var_1, var_2, [cond_var])\n",
        "    ))"
      ],
      "execution_count": null,
      "outputs": [
        {
          "output_type": "stream",
          "name": "stdout",
          "text": [
            "x and z are independent given w = False\n",
            "x and z are independent given y = False\n",
            "y and w are independent given z = True\n",
            "y and w are independent given x = False\n",
            "z and w are independent given x = False\n",
            "z and w are independent given y = False\n",
            "x and w are independent given z = True\n",
            "x and w are independent given y = False\n",
            "y and z are independent given x = False\n",
            "y and z are independent given w = False\n"
          ]
        }
      ]
    },
    {
      "cell_type": "markdown",
      "metadata": {
        "id": "NpVqPv3MqL7J"
      },
      "source": [
        "Removing edges between $Y$ and $W$ and between $X$ and $W$"
      ]
    },
    {
      "cell_type": "code",
      "metadata": {
        "colab": {
          "base_uri": "https://localhost:8080/",
          "height": 247
        },
        "id": "jOI-p4eZqhJ_",
        "outputId": "208467f0-184c-4955-b1bb-c97aad17f79b"
      },
      "source": [
        "G.remove_edge('y', 'w')\n",
        "G.remove_edge('x', 'w')\n",
        "plt.figure(figsize=(5, 3))\n",
        "nx.draw(G, pos=nodes_pos, with_labels=True, font_weight='bold')"
      ],
      "execution_count": null,
      "outputs": [
        {
          "output_type": "display_data",
          "data": {
            "text/plain": [
              "<Figure size 360x216 with 1 Axes>"
            ],
            "image/png": "[encoded data removed]"
          },
          "metadata": {}
        }
      ]
    },
    {
      "cell_type": "markdown",
      "metadata": {
        "id": "bFIBkPY8thgg"
      },
      "source": [
        "# Step 4. ..."
      ]
    },
    {
      "cell_type": "markdown",
      "metadata": {
        "id": "TcrQpv3rtldP"
      },
      "source": [
        "# Step 5. Search for v-structure"
      ]
    },
    {
      "cell_type": "markdown",
      "metadata": {
        "id": "wdVQbZ8Qt07O"
      },
      "source": [
        "Consider 3 cases:\n",
        "1. $W - Z - Y$\n",
        "2. $W - Z - X$\n",
        "3. $X - Z - Y$\n",
        "\n",
        "3-d case can be oriented as $X -> Z <- Y$"
      ]
    },
    {
      "cell_type": "code",
      "metadata": {
        "colab": {
          "base_uri": "https://localhost:8080/",
          "height": 265
        },
        "id": "9CHf5wRsqhAL",
        "outputId": "627675a8-9d46-4cf3-95fa-37c1541dec31"
      },
      "source": [
        "plt.figure(figsize=(5, 3))\n",
        "nx.draw(G, pos=nodes_pos, with_labels=True, font_weight='bold')\n",
        "\n",
        "plt.arrow(1, 5, 0, -3.65, width=0.05)       # X - > Z\n",
        "plt.arrow(5, 5, -3.75, -3.75, width=0.05)   # Y - > Z"
      ],
      "execution_count": null,
      "outputs": [
        {
          "output_type": "execute_result",
          "data": {
            "text/plain": [
              "<matplotlib.patches.FancyArrow at 0x7f9f940699d0>"
            ]
          },
          "metadata": {},
          "execution_count": 133
        },
        {
          "output_type": "display_data",
          "data": {
            "text/plain": [
              "<Figure size 360x216 with 1 Axes>"
            ],
            "image/png": "[encoded data removed]"
          },
          "metadata": {}
        }
      ]
    },
    {
      "cell_type": "markdown",
      "metadata": {
        "id": "bDfRxn0MzTwb"
      },
      "source": [
        "# Step 6. Orientation propagation"
      ]
    },
    {
      "cell_type": "code",
      "metadata": {
        "colab": {
          "base_uri": "https://localhost:8080/",
          "height": 265
        },
        "id": "qLyujnYPdfGX",
        "outputId": "dbee74f8-e051-459a-d917-af5642ac6a04"
      },
      "source": [
        "plt.figure(figsize=(5, 3))\n",
        "nx.draw(G, pos=nodes_pos, with_labels=True, font_weight='bold')\n",
        "\n",
        "plt.arrow(1, 5, 0, -3.65, width=0.05)       # X - > Z\n",
        "plt.arrow(5, 5, -3.75, -3.75, width=0.05)   # Y - > Z\n",
        "plt.arrow(1, 1, 3.7, 0, width=0.05)   # Z - > W"
      ],
      "execution_count": null,
      "outputs": [
        {
          "output_type": "execute_result",
          "data": {
            "text/plain": [
              "<matplotlib.patches.FancyArrow at 0x7f9f903d98d0>"
            ]
          },
          "metadata": {},
          "execution_count": 134
        },
        {
          "output_type": "display_data",
          "data": {
            "text/plain": [
              "<Figure size 360x216 with 1 Axes>"
            ],
            "image/png": "[encoded data removed]"
          },
          "metadata": {}
        }
      ]
    },
    {
      "cell_type": "markdown",
      "metadata": {
        "id": "1jfUWUokcaED"
      },
      "source": [
        "# Excercise 1:\n",
        "\n",
        "Simulate PC algorithm for the following graph (as in the example above)"
      ]
    },
    {
      "cell_type": "code",
      "metadata": {
        "id": "g-vYEkFJzhll",
        "colab": {
          "base_uri": "https://localhost:8080/",
          "height": 464
        },
        "outputId": "554d06f8-a57b-405f-e417-692bd19c2d9d"
      },
      "source": [
        "fd0 = StructuralCausalModel({\n",
        "    \"A\": lambda n_samples: np.random.binomial(n=1, p=0.5, size=n_samples),\n",
        "    \"F\": lambda n_samples: np.random.binomial(n=1, p=0.4, size=n_samples),\n",
        "    \"E\": discrete_model([\"A\"],{\n",
        "        (0,): (0.6,0.4,),\n",
        "        (1,): (0.1,0.9,), \n",
        "    }),\n",
        "    \"G\": discrete_model([\"F\"],{\n",
        "        (0,): (0.1,0.9,),\n",
        "        (1,): (0.8,0.2,), \n",
        "    }),\n",
        "    \"B\": discrete_model([\"F\"],{\n",
        "        (0,): (0.3,0.7,),\n",
        "        (1,): (0.6,0.4,), \n",
        "    }),\n",
        "    \"C\": discrete_model([\"A\", \"B\"], {\n",
        "        (0,0): (0.1,0.9,), \n",
        "        (0,1): (0.3,0.7,),\n",
        "        (1,0): (0.8,0.2,),\n",
        "        (1,1): (0.4,0.6,),\n",
        "        }),\n",
        "    \"D\": discrete_model([\"C\"],{\n",
        "        (0,): (0.1,0.9,),\n",
        "        (1,): (0.9,0.1,), \n",
        "    }),\n",
        "    \"H\": discrete_model([\"D\"],{\n",
        "        (0,): (0.6,0.4,), \n",
        "        (1,): (0.9,0.1,),\n",
        "    })\n",
        "})\n",
        "\n",
        "fd0.cgm.draw()"
      ],
      "execution_count": null,
      "outputs": [
        {
          "output_type": "execute_result",
          "data": {
            "text/plain": [
              "<graphviz.dot.Digraph at 0x7f9f900f6f90>"
            ],
            "image/svg+xml": "<?xml version=\"1.0\" encoding=\"UTF-8\" standalone=\"no\"?>\n<!DOCTYPE svg PUBLIC \"-//W3C//DTD SVG 1.1//EN\"\n \"http://www.w3.org/Graphics/SVG/1.1/DTD/svg11.dtd\">\n<!-- Generated by graphviz version 2.40.1 (20161225.0304)\n -->\n<!-- Title: %3 Pages: 1 -->\n<svg width=\"206pt\" height=\"332pt\"\n viewBox=\"0.00 0.00 206.00 332.00\" xmlns=\"http://www.w3.org/2000/svg\" xmlns:xlink=\"http://www.w3.org/1999/xlink\">\n<g id=\"graph0\" class=\"graph\" transform=\"scale(1 1) rotate(0) translate(4 328)\">\n<title>%3</title>\n<polygon fill=\"#ffffff\" stroke=\"transparent\" points=\"-4,4 -4,-328 202,-328 202,4 -4,4\"/>\n<!-- E -->\n<g id=\"node1\" class=\"node\">\n<title>E</title>\n<ellipse fill=\"none\" stroke=\"#000000\" cx=\"27\" cy=\"-162\" rx=\"27\" ry=\"18\"/>\n<text text-anchor=\"middle\" x=\"27\" y=\"-158.3\" font-family=\"Times,serif\" font-size=\"14.00\" fill=\"#000000\">E</text>\n</g>\n<!-- B -->\n<g id=\"node2\" class=\"node\">\n<title>B</title>\n<ellipse fill=\"none\" stroke=\"#000000\" cx=\"99\" cy=\"-234\" rx=\"27\" ry=\"18\"/>\n<text text-anchor=\"middle\" x=\"99\" y=\"-230.3\" font-family=\"Times,serif\" font-size=\"14.00\" fill=\"#000000\">B</text>\n</g>\n<!-- C -->\n<g id=\"node5\" class=\"node\">\n<title>C</title>\n<ellipse fill=\"none\" stroke=\"#000000\" cx=\"99\" cy=\"-162\" rx=\"27\" ry=\"18\"/>\n<text text-anchor=\"middle\" x=\"99\" y=\"-158.3\" font-family=\"Times,serif\" font-size=\"14.00\" fill=\"#000000\">C</text>\n</g>\n<!-- B&#45;&gt;C -->\n<g id=\"edge5\" class=\"edge\">\n<title>B&#45;&gt;C</title>\n<path fill=\"none\" stroke=\"#000000\" d=\"M99,-215.8314C99,-208.131 99,-198.9743 99,-190.4166\"/>\n<polygon fill=\"#000000\" stroke=\"#000000\" points=\"102.5001,-190.4132 99,-180.4133 95.5001,-190.4133 102.5001,-190.4132\"/>\n</g>\n<!-- H -->\n<g id=\"node3\" class=\"node\">\n<title>H</title>\n<ellipse fill=\"none\" stroke=\"#000000\" cx=\"99\" cy=\"-18\" rx=\"27\" ry=\"18\"/>\n<text text-anchor=\"middle\" x=\"99\" y=\"-14.3\" font-family=\"Times,serif\" font-size=\"14.00\" fill=\"#000000\">H</text>\n</g>\n<!-- D -->\n<g id=\"node4\" class=\"node\">\n<title>D</title>\n<ellipse fill=\"none\" stroke=\"#000000\" cx=\"99\" cy=\"-90\" rx=\"27\" ry=\"18\"/>\n<text text-anchor=\"middle\" x=\"99\" y=\"-86.3\" font-family=\"Times,serif\" font-size=\"14.00\" fill=\"#000000\">D</text>\n</g>\n<!-- D&#45;&gt;H -->\n<g id=\"edge7\" class=\"edge\">\n<title>D&#45;&gt;H</title>\n<path fill=\"none\" stroke=\"#000000\" d=\"M99,-71.8314C99,-64.131 99,-54.9743 99,-46.4166\"/>\n<polygon fill=\"#000000\" stroke=\"#000000\" points=\"102.5001,-46.4132 99,-36.4133 95.5001,-46.4133 102.5001,-46.4132\"/>\n</g>\n<!-- C&#45;&gt;D -->\n<g id=\"edge6\" class=\"edge\">\n<title>C&#45;&gt;D</title>\n<path fill=\"none\" stroke=\"#000000\" d=\"M99,-143.8314C99,-136.131 99,-126.9743 99,-118.4166\"/>\n<polygon fill=\"#000000\" stroke=\"#000000\" points=\"102.5001,-118.4132 99,-108.4133 95.5001,-118.4133 102.5001,-118.4132\"/>\n</g>\n<!-- G -->\n<g id=\"node6\" class=\"node\">\n<title>G</title>\n<ellipse fill=\"none\" stroke=\"#000000\" cx=\"171\" cy=\"-234\" rx=\"27\" ry=\"18\"/>\n<text text-anchor=\"middle\" x=\"171\" y=\"-230.3\" font-family=\"Times,serif\" font-size=\"14.00\" fill=\"#000000\">G</text>\n</g>\n<!-- A -->\n<g id=\"node7\" class=\"node\">\n<title>A</title>\n<ellipse fill=\"none\" stroke=\"#000000\" cx=\"27\" cy=\"-234\" rx=\"27\" ry=\"18\"/>\n<text text-anchor=\"middle\" x=\"27\" y=\"-230.3\" font-family=\"Times,serif\" font-size=\"14.00\" fill=\"#000000\">A</text>\n</g>\n<!-- A&#45;&gt;E -->\n<g id=\"edge1\" class=\"edge\">\n<title>A&#45;&gt;E</title>\n<path fill=\"none\" stroke=\"#000000\" d=\"M27,-215.8314C27,-208.131 27,-198.9743 27,-190.4166\"/>\n<polygon fill=\"#000000\" stroke=\"#000000\" points=\"30.5001,-190.4132 27,-180.4133 23.5001,-190.4133 30.5001,-190.4132\"/>\n</g>\n<!-- A&#45;&gt;C -->\n<g id=\"edge2\" class=\"edge\">\n<title>A&#45;&gt;C</title>\n<path fill=\"none\" stroke=\"#000000\" d=\"M42.2693,-218.7307C52.197,-208.803 65.3153,-195.6847 76.4363,-184.5637\"/>\n<polygon fill=\"#000000\" stroke=\"#000000\" points=\"79.1564,-186.7933 83.7527,-177.2473 74.2067,-181.8436 79.1564,-186.7933\"/>\n</g>\n<!-- F -->\n<g id=\"node8\" class=\"node\">\n<title>F</title>\n<ellipse fill=\"none\" stroke=\"#000000\" cx=\"135\" cy=\"-306\" rx=\"27\" ry=\"18\"/>\n<text text-anchor=\"middle\" x=\"135\" y=\"-302.3\" font-family=\"Times,serif\" font-size=\"14.00\" fill=\"#000000\">F</text>\n</g>\n<!-- F&#45;&gt;B -->\n<g id=\"edge4\" class=\"edge\">\n<title>F&#45;&gt;B</title>\n<path fill=\"none\" stroke=\"#000000\" d=\"M126.2854,-288.5708C122.0403,-280.0807 116.8464,-269.6929 112.1337,-260.2674\"/>\n<polygon fill=\"#000000\" stroke=\"#000000\" points=\"115.237,-258.6477 107.6343,-251.2687 108.976,-261.7782 115.237,-258.6477\"/>\n</g>\n<!-- F&#45;&gt;G -->\n<g id=\"edge3\" class=\"edge\">\n<title>F&#45;&gt;G</title>\n<path fill=\"none\" stroke=\"#000000\" d=\"M143.7146,-288.5708C147.9597,-280.0807 153.1536,-269.6929 157.8663,-260.2674\"/>\n<polygon fill=\"#000000\" stroke=\"#000000\" points=\"161.024,-261.7782 162.3657,-251.2687 154.763,-258.6477 161.024,-261.7782\"/>\n</g>\n</g>\n</svg>\n"
          },
          "metadata": {},
          "execution_count": 135
        }
      ]
    },
    {
      "cell_type": "code",
      "metadata": {
        "id": "8FgS4UIJdSFL"
      },
      "source": [
        "n_samples=1000000\n",
        "# n_samples=1000\n",
        "data_df2 = fd0.sample(n_samples=n_samples)"
      ],
      "execution_count": null,
      "outputs": []
    },
    {
      "cell_type": "markdown",
      "metadata": {
        "id": "MdeIzmCset1w"
      },
      "source": [
        "## Fully connected graph"
      ]
    },
    {
      "cell_type": "code",
      "metadata": {
        "colab": {
          "base_uri": "https://localhost:8080/",
          "height": 391
        },
        "id": "xcVM5YBjdoaF",
        "outputId": "62f1a494-a1b3-447e-f66c-82613688f0b2"
      },
      "source": [
        "all_nodes2 = ['A', 'B', 'C', 'D', 'E', 'F', 'G', 'H']\n",
        "nodes_pos2 = {'A': (2,4), 'B': (4.5,4), 'C': (3,3.5), 'D': (2.5,2), 'E': (1,3), \n",
        "             'F': (5,5), 'G': (6,4), 'H': (3,1)}\n",
        "\n",
        "G2 = nx.Graph()\n",
        "G2.add_nodes_from(all_nodes2)\n",
        "#G.add_nodes_from(tuple(zip(all_nodes, nodes_pos)))\n",
        "\n",
        "for i in range(0, len(all_nodes2)):\n",
        "    node_1 = all_nodes2[i]\n",
        "    for j in range(i+1, len(all_nodes2)):\n",
        "        node_2 = all_nodes2[j]\n",
        "        G2.add_edge(node_1, node_2)\n",
        "\n",
        "plt.figure(figsize=(5, 5))\n",
        "nx.draw(G2, \n",
        "        pos=nodes_pos2, \n",
        "        with_labels=True, font_weight='bold')"
      ],
      "execution_count": null,
      "outputs": [
        {
          "output_type": "display_data",
          "data": {
            "text/plain": [
              "<Figure size 360x360 with 1 Axes>"
            ],
            "image/png": "[encoded data removed]"
          },
          "metadata": {}
        }
      ]
    },
    {
      "cell_type": "markdown",
      "source": [
        "# Test unconditional independence"
      ],
      "metadata": {
        "id": "ZtTEoevwEd6f"
      }
    },
    {
      "cell_type": "code",
      "source": [
        "L = [] #Define an empty set to add the unconditionally independent nodes to remove it afterwards"
      ],
      "metadata": {
        "id": "6ns8pBTCFjVU"
      },
      "execution_count": null,
      "outputs": []
    },
    {
      "cell_type": "code",
      "metadata": {
        "id": "2Rb60wfxoHVM",
        "colab": {
          "base_uri": "https://localhost:8080/"
        },
        "outputId": "e2e4247f-dc8f-41b7-90d4-8591f475ab6f"
      },
      "source": [
        "for i in range(0, len(all_nodes2)):\n",
        "    var_1 = all_nodes2[i]\n",
        "    for j in range(i + 1, len(all_nodes2)):\n",
        "        var_2 = all_nodes2[j]\n",
        "        # testStat, thresh = hsic_gam(data_df[var_1].values.reshape(-1, 1), data_df[var_2].values.reshape(-1, 1), alph=alph)\n",
        "        # print(testStat, thresh)\n",
        "        print(\"{} and {} are independent: {}\".format(var_1, var_2, \n",
        "                                                     is_indep(data_df2[var_1].values, data_df2[var_2].values)))\n",
        "        if is_indep(data_df2[var_1].values,data_df2[var_2].values):\n",
        "          L.append((var_1,var_2)) #append the unconditionally independent nodes to L "
      ],
      "execution_count": null,
      "outputs": [
        {
          "output_type": "stream",
          "name": "stdout",
          "text": [
            "A and B are independent: True\n",
            "A and C are independent: False\n",
            "A and D are independent: False\n",
            "A and E are independent: False\n",
            "A and F are independent: True\n",
            "A and G are independent: True\n",
            "A and H are independent: False\n",
            "B and C are independent: False\n",
            "B and D are independent: False\n",
            "B and E are independent: True\n",
            "B and F are independent: False\n",
            "B and G are independent: False\n",
            "B and H are independent: True\n",
            "C and D are independent: False\n",
            "C and E are independent: False\n",
            "C and F are independent: True\n",
            "C and G are independent: True\n",
            "C and H are independent: False\n",
            "D and E are independent: False\n",
            "D and F are independent: True\n",
            "D and G are independent: True\n",
            "D and H are independent: False\n",
            "E and F are independent: True\n",
            "E and G are independent: True\n",
            "E and H are independent: False\n",
            "F and G are independent: False\n",
            "F and H are independent: True\n",
            "G and H are independent: True\n"
          ]
        }
      ]
    },
    {
      "cell_type": "markdown",
      "source": [
        "Remove the edges that are unconditionally independent:"
      ],
      "metadata": {
        "id": "eQIYAD7pFFq-"
      }
    },
    {
      "cell_type": "code",
      "source": [
        "for i in range(0,len(L)):\n",
        "  G2.remove_edge(L[i][0],L[i][1])\n",
        "plt.figure(figsize=(5, 3))\n",
        "nx.draw(G2, pos=nodes_pos2, with_labels=True, font_weight='bold')"
      ],
      "metadata": {
        "colab": {
          "base_uri": "https://localhost:8080/",
          "height": 247
        },
        "id": "btUGGgZ2FLUO",
        "outputId": "7cd4413e-c3b3-4356-9bdc-61b7a0c81164"
      },
      "execution_count": null,
      "outputs": [
        {
          "output_type": "display_data",
          "data": {
            "text/plain": [
              "<Figure size 360x216 with 1 Axes>"
            ],
            "image/png": "[encoded data removed]"
          },
          "metadata": {}
        }
      ]
    },
    {
      "cell_type": "markdown",
      "source": [
        "# Condition on one variable"
      ],
      "metadata": {
        "id": "kZ3lMRptvLqD"
      }
    },
    {
      "cell_type": "markdown",
      "source": [
        "Find all the combinations possible "
      ],
      "metadata": {
        "id": "2zQhpF5TvRQ0"
      }
    },
    {
      "cell_type": "code",
      "source": [
        "edges = list(G2.edges())"
      ],
      "metadata": {
        "id": "V2LGAD67bdA_"
      },
      "execution_count": null,
      "outputs": []
    },
    {
      "cell_type": "code",
      "source": [
        "nodes = list(G2.nodes())"
      ],
      "metadata": {
        "id": "xiwTOtkQcLgs"
      },
      "execution_count": null,
      "outputs": []
    },
    {
      "cell_type": "code",
      "source": [
        "def combinations(): #Find all of the combinations \n",
        "  combinations = []\n",
        "  for i in edges: #For every edge\n",
        "    for j in [x for p,x in enumerate(nodes) if (x!= i[0] and x != i[1])]:#for every node except the ones in the i-th edge\n",
        "      if G2.has_edge(j,i[0]) or G2.has_edge(j,i[1]): #if j is adjacent to any of the i[0] or i[1]\n",
        "        combinations.append((i[0],i[1],j)) #put in the combinations set\n",
        "      else:\n",
        "        pass\n",
        "  return combinations          "
      ],
      "metadata": {
        "id": "i8HmjEi-Lrjl"
      },
      "execution_count": null,
      "outputs": []
    },
    {
      "cell_type": "code",
      "source": [
        "combinations2 = combinations()"
      ],
      "metadata": {
        "id": "5yjIhawPoW1B"
      },
      "execution_count": null,
      "outputs": []
    },
    {
      "cell_type": "code",
      "source": [
        "combinations2"
      ],
      "metadata": {
        "colab": {
          "base_uri": "https://localhost:8080/"
        },
        "id": "yAxUM7XKzf-a",
        "outputId": "8cb52800-9b28-4a7d-d9c2-12892da3ff80"
      },
      "execution_count": null,
      "outputs": [
        {
          "output_type": "execute_result",
          "data": {
            "text/plain": [
              "[('A', 'C', 'B'),\n",
              " ('A', 'C', 'D'),\n",
              " ('A', 'C', 'E'),\n",
              " ('A', 'C', 'H'),\n",
              " ('A', 'D', 'B'),\n",
              " ('A', 'D', 'C'),\n",
              " ('A', 'D', 'E'),\n",
              " ('A', 'D', 'H'),\n",
              " ('A', 'E', 'C'),\n",
              " ('A', 'E', 'D'),\n",
              " ('A', 'E', 'H'),\n",
              " ('A', 'H', 'C'),\n",
              " ('A', 'H', 'D'),\n",
              " ('A', 'H', 'E'),\n",
              " ('B', 'C', 'A'),\n",
              " ('B', 'C', 'D'),\n",
              " ('B', 'C', 'E'),\n",
              " ('B', 'C', 'F'),\n",
              " ('B', 'C', 'G'),\n",
              " ('B', 'C', 'H'),\n",
              " ('B', 'D', 'A'),\n",
              " ('B', 'D', 'C'),\n",
              " ('B', 'D', 'E'),\n",
              " ('B', 'D', 'F'),\n",
              " ('B', 'D', 'G'),\n",
              " ('B', 'D', 'H'),\n",
              " ('B', 'F', 'C'),\n",
              " ('B', 'F', 'D'),\n",
              " ('B', 'F', 'G'),\n",
              " ('B', 'G', 'C'),\n",
              " ('B', 'G', 'D'),\n",
              " ('B', 'G', 'F'),\n",
              " ('C', 'D', 'A'),\n",
              " ('C', 'D', 'B'),\n",
              " ('C', 'D', 'E'),\n",
              " ('C', 'D', 'H'),\n",
              " ('C', 'E', 'A'),\n",
              " ('C', 'E', 'B'),\n",
              " ('C', 'E', 'D'),\n",
              " ('C', 'E', 'H'),\n",
              " ('C', 'H', 'A'),\n",
              " ('C', 'H', 'B'),\n",
              " ('C', 'H', 'D'),\n",
              " ('C', 'H', 'E'),\n",
              " ('D', 'E', 'A'),\n",
              " ('D', 'E', 'B'),\n",
              " ('D', 'E', 'C'),\n",
              " ('D', 'E', 'H'),\n",
              " ('D', 'H', 'A'),\n",
              " ('D', 'H', 'B'),\n",
              " ('D', 'H', 'C'),\n",
              " ('D', 'H', 'E'),\n",
              " ('E', 'H', 'A'),\n",
              " ('E', 'H', 'C'),\n",
              " ('E', 'H', 'D'),\n",
              " ('F', 'G', 'B')]"
            ]
          },
          "metadata": {},
          "execution_count": 145
        }
      ]
    },
    {
      "cell_type": "markdown",
      "source": [
        "Removing the ones which are conditionally independent"
      ],
      "metadata": {
        "id": "NzGUpxN2u1aZ"
      }
    },
    {
      "cell_type": "code",
      "source": [
        "C = []\n",
        "for var_1, var_2, cond_var in combinations2:\n",
        "    print('{} and {} are independent given {} = {}'.format(\n",
        "        var_1, var_2, cond_var, is_cond_independent(data_df2, var_1, var_2, [cond_var])\n",
        "    ))\n",
        "    if is_cond_independent(data_df2,var_1,var_2,[cond_var]):\n",
        "      C.append((var_1,var_2))"
      ],
      "metadata": {
        "colab": {
          "base_uri": "https://localhost:8080/"
        },
        "id": "iZpVZfsGvGoT",
        "outputId": "f8aa2c77-c9c0-487b-b6bc-b8888704290c"
      },
      "execution_count": null,
      "outputs": [
        {
          "output_type": "stream",
          "name": "stdout",
          "text": [
            "A and C are independent given B = False\n",
            "A and C are independent given D = False\n",
            "A and C are independent given E = False\n",
            "A and C are independent given H = False\n",
            "A and D are independent given B = False\n",
            "A and D are independent given C = True\n",
            "A and D are independent given E = False\n",
            "A and D are independent given H = False\n",
            "A and E are independent given C = False\n",
            "A and E are independent given D = False\n",
            "A and E are independent given H = False\n",
            "A and H are independent given C = True\n",
            "A and H are independent given D = True\n",
            "A and H are independent given E = False\n",
            "B and C are independent given A = False\n",
            "B and C are independent given D = False\n",
            "B and C are independent given E = False\n",
            "B and C are independent given F = False\n",
            "B and C are independent given G = False\n",
            "B and C are independent given H = False\n",
            "B and D are independent given A = False\n",
            "B and D are independent given C = True\n",
            "B and D are independent given E = False\n",
            "B and D are independent given F = False\n",
            "B and D are independent given G = False\n",
            "B and D are independent given H = False\n",
            "B and F are independent given C = False\n",
            "B and F are independent given D = False\n",
            "B and F are independent given G = False\n",
            "B and G are independent given C = False\n",
            "B and G are independent given D = False\n",
            "B and G are independent given F = True\n",
            "C and D are independent given A = False\n",
            "C and D are independent given B = False\n",
            "C and D are independent given E = False\n",
            "C and D are independent given H = False\n",
            "C and E are independent given A = True\n",
            "C and E are independent given B = False\n",
            "C and E are independent given D = False\n",
            "C and E are independent given H = False\n",
            "C and H are independent given A = False\n",
            "C and H are independent given B = False\n",
            "C and H are independent given D = True\n",
            "C and H are independent given E = False\n",
            "D and E are independent given A = True\n",
            "D and E are independent given B = False\n",
            "D and E are independent given C = True\n",
            "D and E are independent given H = False\n",
            "D and H are independent given A = False\n",
            "D and H are independent given B = False\n",
            "D and H are independent given C = False\n",
            "D and H are independent given E = False\n",
            "E and H are independent given A = True\n",
            "E and H are independent given C = True\n",
            "E and H are independent given D = True\n",
            "F and G are independent given B = False\n"
          ]
        }
      ]
    },
    {
      "cell_type": "code",
      "source": [
        "len(C) #the length should be 12, (sometimes it is 14 or 13 but when I run everything again it becomes 12)"
      ],
      "metadata": {
        "colab": {
          "base_uri": "https://localhost:8080/"
        },
        "id": "U4-uFf6_web9",
        "outputId": "c6216c2c-2981-4e16-c685-53f7d537fa40"
      },
      "execution_count": null,
      "outputs": [
        {
          "output_type": "execute_result",
          "data": {
            "text/plain": [
              "12"
            ]
          },
          "metadata": {},
          "execution_count": 147
        }
      ]
    },
    {
      "cell_type": "code",
      "source": [
        "S = set(C) #remove the duplicates from the list\n",
        "C = list(S)"
      ],
      "metadata": {
        "id": "59xZPtwn1U4f"
      },
      "execution_count": null,
      "outputs": []
    },
    {
      "cell_type": "code",
      "source": [
        "for i in range(0,len(C)): #Finding the skeleton\n",
        "  G2.remove_edge(C[i][0],C[i][1])\n",
        "plt.figure(figsize=(5, 3))\n",
        "nx.draw(G2, pos=nodes_pos2, with_labels=True, font_weight='bold')"
      ],
      "metadata": {
        "colab": {
          "base_uri": "https://localhost:8080/",
          "height": 247
        },
        "id": "kY1IQf-Zw0lm",
        "outputId": "89b92b3d-83b5-43b4-fc12-43fa18df7c73"
      },
      "execution_count": null,
      "outputs": [
        {
          "output_type": "display_data",
          "data": {
            "text/plain": [
              "<Figure size 360x216 with 1 Axes>"
            ],
            "image/png": "[encoded data removed]"
          },
          "metadata": {}
        }
      ]
    },
    {
      "cell_type": "markdown",
      "source": [
        "Finding all the triples possible from the nodes:"
      ],
      "metadata": {
        "id": "ljxjA2Txd29M"
      }
    },
    {
      "cell_type": "code",
      "source": [
        "nodes"
      ],
      "metadata": {
        "colab": {
          "base_uri": "https://localhost:8080/"
        },
        "id": "ylanQjMu5FFN",
        "outputId": "d2999d1e-aed2-4202-cb9e-7778dcbe861d"
      },
      "execution_count": null,
      "outputs": [
        {
          "output_type": "execute_result",
          "data": {
            "text/plain": [
              "['A', 'B', 'C', 'D', 'E', 'F', 'G', 'H']"
            ]
          },
          "metadata": {},
          "execution_count": 150
        }
      ]
    },
    {
      "cell_type": "code",
      "source": [
        "triples = []\n",
        "for i in nodes:\n",
        "  for j in [x for x in nodes if x != i]:\n",
        "    for k in [x for x in nodes if x != i and x != j]:\n",
        "      triples.append((i,j,k))"
      ],
      "metadata": {
        "id": "V_wEIRnF5B0z"
      },
      "execution_count": null,
      "outputs": []
    },
    {
      "cell_type": "code",
      "source": [
        "len(triples) #it should be 8*7*6 = 336"
      ],
      "metadata": {
        "colab": {
          "base_uri": "https://localhost:8080/"
        },
        "id": "HsmCRU0O5t14",
        "outputId": "6433ad0c-aee3-464a-c847-c5e0c06010d9"
      },
      "execution_count": null,
      "outputs": [
        {
          "output_type": "execute_result",
          "data": {
            "text/plain": [
              "336"
            ]
          },
          "metadata": {},
          "execution_count": 152
        }
      ]
    },
    {
      "cell_type": "markdown",
      "source": [
        "Here I defined a directed graph to orient some of the edges according to the PC algorithm"
      ],
      "metadata": {
        "id": "XvELMSRKeOAZ"
      }
    },
    {
      "cell_type": "markdown",
      "source": [
        "# Search for V-structures"
      ],
      "metadata": {
        "id": "NKmdefvleauj"
      }
    },
    {
      "cell_type": "code",
      "source": [
        "G3 = nx.DiGraph()\n",
        "G3.add_nodes_from(all_nodes2)"
      ],
      "metadata": {
        "id": "0aTvDETC8jIn"
      },
      "execution_count": null,
      "outputs": []
    },
    {
      "cell_type": "code",
      "source": [
        "for i in triples:\n",
        "  if G2.has_edge(i[0],i[1]) and G2.has_edge(i[1],i[2]) and not (G2.has_edge(i[0],i[2])) and not is_cond_independent(data_df2, i[0],i[2],[i[1]]):\n",
        "      G3.add_edges_from([(i[0],i[1]) , (i[2],i[1])])"
      ],
      "metadata": {
        "id": "e1vuh55o5_5t"
      },
      "execution_count": null,
      "outputs": []
    },
    {
      "cell_type": "code",
      "source": [
        "plt.figure(figsize=(5, 3))\n",
        "nx.draw(G3, pos=nodes_pos2, with_labels=True, font_weight='bold')"
      ],
      "metadata": {
        "colab": {
          "base_uri": "https://localhost:8080/",
          "height": 247
        },
        "id": "PFWs_r0u8Er3",
        "outputId": "4eb28692-565b-417f-cce0-7c5d2da0d906"
      },
      "execution_count": null,
      "outputs": [
        {
          "output_type": "display_data",
          "data": {
            "text/plain": [
              "<Figure size 360x216 with 1 Axes>"
            ],
            "image/png": "[encoded data removed]"
          },
          "metadata": {}
        }
      ]
    },
    {
      "cell_type": "code",
      "source": [
        "for i in triples:\n",
        "  if G3.has_edge(i[0],i[1]) and G2.has_edge(i[1],i[2]) and not G3.has_edge(i[2],i[1]):\n",
        "    G3.add_edges_from([(i[1],i[2])])"
      ],
      "metadata": {
        "id": "qGzmFbTle6NU"
      },
      "execution_count": null,
      "outputs": []
    },
    {
      "cell_type": "code",
      "source": [
        "plt.figure(figsize=(5, 3))\n",
        "nx.draw(G3, pos=nodes_pos2, with_labels=True, font_weight='bold')"
      ],
      "metadata": {
        "colab": {
          "base_uri": "https://localhost:8080/",
          "height": 247
        },
        "id": "3cQ65R9cf6Ij",
        "outputId": "288df25a-4958-499c-db50-6cf1fbdc3252"
      },
      "execution_count": null,
      "outputs": [
        {
          "output_type": "display_data",
          "data": {
            "text/plain": [
              "<Figure size 360x216 with 1 Axes>"
            ],
            "image/png": "[encoded data removed]"
          },
          "metadata": {}
        }
      ]
    },
    {
      "cell_type": "markdown",
      "source": [
        "**Now we have a graph with the directions from the PC algorithm and the rest of the orientations are not unique and they will be in the same Markov class as the graph in the model because they have the same skeleton + the same colliders**\n",
        "\n",
        "\n",
        "So the 2 graphs below are in the same Markov class:"
      ],
      "metadata": {
        "id": "XH10gCbvgE7l"
      }
    },
    {
      "cell_type": "code",
      "source": [
        "G3.add_edges_from([(\"F\",\"B\"),(\"G\",\"F\"),(\"E\",\"A\")])\n",
        "plt.figure(figsize=(5, 3))\n",
        "nx.draw(G3, pos=nodes_pos2, with_labels=True, font_weight='bold')"
      ],
      "metadata": {
        "colab": {
          "base_uri": "https://localhost:8080/",
          "height": 247
        },
        "id": "1WDimXnmgoOS",
        "outputId": "54113738-7846-4826-f533-f28148b0c1af"
      },
      "execution_count": null,
      "outputs": [
        {
          "output_type": "display_data",
          "data": {
            "text/plain": [
              "<Figure size 360x216 with 1 Axes>"
            ],
            "image/png": "[encoded data removed]"
          },
          "metadata": {}
        }
      ]
    },
    {
      "cell_type": "code",
      "source": [
        "G3.remove_edges_from([(\"F\",\"B\"),(\"G\",\"F\"),(\"E\",\"A\")])\n",
        "G3.add_edges_from([(\"F\",\"B\"),(\"F\",\"G\"),(\"A\",\"E\")])\n",
        "plt.figure(figsize=(5, 3))\n",
        "nx.draw(G3, pos=nodes_pos2, with_labels=True, font_weight='bold')"
      ],
      "metadata": {
        "colab": {
          "base_uri": "https://localhost:8080/",
          "height": 247
        },
        "id": "JHJKEcn3hkBu",
        "outputId": "55605ea4-06f3-41c0-8bf8-a752d35d87e4"
      },
      "execution_count": null,
      "outputs": [
        {
          "output_type": "display_data",
          "data": {
            "text/plain": [
              "<Figure size 360x216 with 1 Axes>"
            ],
            "image/png": "[encoded data removed]"
          },
          "metadata": {}
        }
      ]
    }
  ]
}
